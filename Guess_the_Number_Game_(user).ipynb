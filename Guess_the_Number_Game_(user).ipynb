{
  "cells": [
    {
      "cell_type": "markdown",
      "metadata": {
        "id": "view-in-github",
        "colab_type": "text"
      },
      "source": [
        "<a href=\"https://colab.research.google.com/github/hibameo/python_Guess_the_Number_Game_-user-/blob/main/Guess_the_Number_Game_(user).ipynb\" target=\"_parent\"><img src=\"https://colab.research.google.com/assets/colab-badge.svg\" alt=\"Open In Colab\"/></a>"
      ]
    },
    {
      "cell_type": "code",
      "execution_count": null,
      "metadata": {
        "colab": {
          "background_save": true,
          "base_uri": "https://localhost:8080/"
        },
        "id": "Q7kNojkP_g1V",
        "outputId": "d7f2fa77-b307-42df-ffcc-609091c18254"
      },
      "outputs": [
        {
          "name": "stdout",
          "output_type": "stream",
          "text": [
            "Welcome to the 'Guess the Number' game!\n",
            "I have selected a number between 1 and 100.\n",
            "Can you guess what it is?\n",
            "Too high! Try again.\n",
            "Too high! Try again.\n",
            "Too high! Try again.\n",
            "Too high! Try again.\n",
            "Too high! Try again.\n",
            "Too high! Try again.\n",
            "Too high! Try again.\n",
            "Too high! Try again.\n",
            "Too high! Try again.\n",
            "Too high! Try again.\n",
            "Too low! Try again.\n",
            "Too low! Try again.\n",
            "Too low! Try again.\n",
            "Too low! Try again.\n",
            "Too low! Try again.\n",
            "Too low! Try again.\n",
            "Too low! Try again.\n",
            "Too low! Try again.\n",
            "Too low! Try again.\n"
          ]
        }
      ],
      "source": [
        "import random\n",
        "\n",
        "def guess_the_number():\n",
        "    print(\"Welcome to the 'Guess the Number' game!\")\n",
        "    print(\"I have selected a number between 1 and 100.\")\n",
        "    print(\"Can you guess what it is?\")\n",
        "\n",
        "    # Generate a random number\n",
        "    number_to_guess = random.randint(1, 100)\n",
        "    attempts = 0\n",
        "    user_guess = None\n",
        "\n",
        "    while user_guess != number_to_guess:\n",
        "        try:\n",
        "            user_guess = int(input(\"Enter your guess: \"))\n",
        "            attempts += 1\n",
        "\n",
        "            if user_guess < number_to_guess:\n",
        "                print(\"Too low! Try again.\")\n",
        "            elif user_guess > number_to_guess:\n",
        "                print(\"Too high! Try again.\")\n",
        "            else:\n",
        "                print(f\"Congratulations! You guessed it in {attempts} attempts.\")\n",
        "        except ValueError:\n",
        "            print(\"Please enter a valid number.\")\n",
        "\n",
        "    print(\"Thanks for playing!\")\n",
        "\n",
        "# Run the game\n",
        "guess_the_number()\n"
      ]
    }
  ],
  "metadata": {
    "colab": {
      "provenance": [],
      "authorship_tag": "ABX9TyMkKnfACHuTLH7hZNS/lBWp",
      "include_colab_link": true
    },
    "kernelspec": {
      "display_name": "Python 3",
      "name": "python3"
    },
    "language_info": {
      "name": "python"
    }
  },
  "nbformat": 4,
  "nbformat_minor": 0
}